{
 "cells": [
  {
   "cell_type": "markdown",
   "metadata": {},
   "source": [
    "Using high level framework sentence transformers. It is a state-of-the-art sentence embeddings. "
   ]
  },
  {
   "cell_type": "code",
   "execution_count": 1,
   "metadata": {},
   "outputs": [],
   "source": [
    "from sentence_transformers import SentenceTransformer\n",
    "import utils\n",
    "import similarity"
   ]
  },
  {
   "cell_type": "code",
   "execution_count": 2,
   "metadata": {},
   "outputs": [],
   "source": [
    "%load_ext autoreload\n",
    "%autoreload 2"
   ]
  },
  {
   "cell_type": "code",
   "execution_count": 3,
   "metadata": {},
   "outputs": [],
   "source": [
    "model = SentenceTransformer('bert-base-nli-mean-tokens')"
   ]
  },
  {
   "cell_type": "code",
   "execution_count": 4,
   "metadata": {},
   "outputs": [],
   "source": [
    "data = utils.loadData(file_path = '../data/raw/augmentations.json')"
   ]
  },
  {
   "cell_type": "code",
   "execution_count": 5,
   "metadata": {},
   "outputs": [
    {
     "name": "stdout",
     "output_type": "stream",
     "text": [
      "1: Compliance training was so boring! I just answered at random, what a waste of time\n",
      "2: Isn't it a compliance issue?\n",
      "3: There is a compliance thing on their side\n",
      "4: Let's speak later - compliance problems\n",
      "5: feels scary because of those compliance reasons\n",
      "6: I suggest to speak with everyone you can: risk, compliance, may be ops...etc..etc this can be a huge problem\n",
      "7: We need to iron out some things on the compliance side\n",
      "8: Ok compliance is looking at it.. Hopefully they respond soon\n",
      "9: I will just have compliance issue\n",
      "10: I'm paranoid about compliance breaches haha\n",
      "11: last time i traded with them compliance gave me a warning\n",
      "12: this compliance thing gonna keep me around too\n",
      "13: yeah -- but trying to say that without saying the word short since compliance has slapped me on the wrist for that before\n",
      "14: I will check with US guys as compliance don't really like us passing stuff across the different legal entities anymore\n",
      "15: seem to remember compliance had an issue with it\n",
      "16: Chris, let's make sure we get the compliance approval for this\n",
      "17: Sorry not trying to be difficult - hardcoding is a quite easy - but unfortunately with compliance matters such as this we need to be very careful\n",
      "18: I had to fight citadel compliance all day to get it in front of Forman\n",
      "19: PT guys are ok but I think compliance would have issue with LT ?\n",
      "20: Is there a compliance issue with that?\n",
      "21: I think compliance wont let us buy p72!\n",
      "22: You know the compliance hates multichat nowadays\n",
      "23: If T+2 u get 1 day more carry..I am happy with that as long as ur compliance don't have issue on that\n",
      "24: We could even wait until Monday, don't want to run anyone into compliance issues\n",
      "25: might be a question for compliance\n"
     ]
    }
   ],
   "source": [
    "df = similarity.getSimilarityScores(model, data)"
   ]
  },
  {
   "cell_type": "markdown",
   "metadata": {},
   "source": [
    "Score < 0.95 will ensure diversity.<br/>\n",
    "Score > 0.7 will ensure fidelity"
   ]
  },
  {
   "cell_type": "code",
   "execution_count": 6,
   "metadata": {},
   "outputs": [],
   "source": [
    "df['pass'] = False\n",
    "\n",
    "df.loc[(df.score<0.95) & (df.score>0.7), 'pass'] = True"
   ]
  },
  {
   "cell_type": "markdown",
   "metadata": {},
   "source": [
    "Saving the output in the asked format"
   ]
  },
  {
   "cell_type": "code",
   "execution_count": 7,
   "metadata": {},
   "outputs": [
    {
     "name": "stdout",
     "output_type": "stream",
     "text": [
      "Success!\n"
     ]
    }
   ],
   "source": [
    "utils.saveOut(df)"
   ]
  },
  {
   "cell_type": "code",
   "execution_count": null,
   "metadata": {},
   "outputs": [],
   "source": []
  }
 ],
 "metadata": {
  "interpreter": {
   "hash": "57d441cc997c0c1b6c3030bde31ef44b58df976b388ad1d6d4f6a509158360d6"
  },
  "kernelspec": {
   "display_name": "Python 3.9.6 64-bit ('behavox': conda)",
   "language": "python",
   "name": "python396jvsc74a57bd057d441cc997c0c1b6c3030bde31ef44b58df976b388ad1d6d4f6a509158360d6"
  },
  "language_info": {
   "codemirror_mode": {
    "name": "ipython",
    "version": 3
   },
   "file_extension": ".py",
   "mimetype": "text/x-python",
   "name": "python",
   "nbconvert_exporter": "python",
   "pygments_lexer": "ipython3",
   "version": "3.9.6"
  }
 },
 "nbformat": 4,
 "nbformat_minor": 2
}
